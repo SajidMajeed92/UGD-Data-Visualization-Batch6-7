{
 "cells": [
  {
   "cell_type": "markdown",
   "id": "3010ce36",
   "metadata": {},
   "source": [
    "# Numpy"
   ]
  },
  {
   "cell_type": "code",
   "execution_count": 2,
   "id": "72f38719",
   "metadata": {},
   "outputs": [],
   "source": [
    "import numpy as np"
   ]
  },
  {
   "cell_type": "code",
   "execution_count": 3,
   "id": "9b205f20",
   "metadata": {},
   "outputs": [
    {
     "name": "stdout",
     "output_type": "stream",
     "text": [
      "[1 2 3 4 5]\n",
      "<class 'numpy.ndarray'>\n"
     ]
    }
   ],
   "source": [
    "arr = np.array([1,2,3,4,5])\n",
    "print(arr)\n",
    "print(type(arr))"
   ]
  },
  {
   "cell_type": "code",
   "execution_count": 4,
   "id": "abab87d1",
   "metadata": {},
   "outputs": [
    {
     "name": "stdout",
     "output_type": "stream",
     "text": [
      "1\n"
     ]
    }
   ],
   "source": [
    "print(arr.ndim)"
   ]
  },
  {
   "cell_type": "code",
   "execution_count": 18,
   "id": "6da1fcb1",
   "metadata": {},
   "outputs": [
    {
     "name": "stdout",
     "output_type": "stream",
     "text": [
      "[[1 2 3 4]\n",
      " [4 3 5 3]]\n",
      "2\n"
     ]
    }
   ],
   "source": [
    "arr1=np.array([[1,2,3,4],[4,3,5,3]])\n",
    "print(arr1)\n",
    "print(arr1.ndim)"
   ]
  },
  {
   "cell_type": "code",
   "execution_count": 19,
   "id": "3474661f",
   "metadata": {},
   "outputs": [
    {
     "data": {
      "text/plain": [
       "array([[0., 0., 0.],\n",
       "       [0., 0., 0.]])"
      ]
     },
     "execution_count": 19,
     "metadata": {},
     "output_type": "execute_result"
    }
   ],
   "source": [
    "arr3 = np.zeros((2,3))\n",
    "arr3"
   ]
  },
  {
   "cell_type": "code",
   "execution_count": 21,
   "id": "d845b4bd",
   "metadata": {},
   "outputs": [
    {
     "data": {
      "text/plain": [
       "array([[1., 1., 1.],\n",
       "       [1., 1., 1.]])"
      ]
     },
     "execution_count": 21,
     "metadata": {},
     "output_type": "execute_result"
    }
   ],
   "source": [
    "arr4 = np.ones((2,3))\n",
    "arr4"
   ]
  },
  {
   "cell_type": "code",
   "execution_count": 25,
   "id": "241833d4",
   "metadata": {},
   "outputs": [
    {
     "data": {
      "text/plain": [
       "array([[1., 0., 0., 0.],\n",
       "       [0., 1., 0., 0.],\n",
       "       [0., 0., 1., 0.],\n",
       "       [0., 0., 0., 1.]])"
      ]
     },
     "execution_count": 25,
     "metadata": {},
     "output_type": "execute_result"
    }
   ],
   "source": [
    "arr5 = np.identity((4))\n",
    "arr5"
   ]
  },
  {
   "cell_type": "code",
   "execution_count": 32,
   "id": "cfb6461d",
   "metadata": {},
   "outputs": [
    {
     "data": {
      "text/plain": [
       "array([10.        , 13.33333333, 16.66666667, 20.        ])"
      ]
     },
     "execution_count": 32,
     "metadata": {},
     "output_type": "execute_result"
    }
   ],
   "source": [
    "arr7 = np.linspace(10,20,4)\n",
    "arr7"
   ]
  },
  {
   "cell_type": "code",
   "execution_count": 30,
   "id": "33ad6e4b",
   "metadata": {},
   "outputs": [
    {
     "data": {
      "text/plain": [
       "array([10, 12, 14, 16, 18])"
      ]
     },
     "execution_count": 30,
     "metadata": {},
     "output_type": "execute_result"
    }
   ],
   "source": [
    "arr8 = np.arange(10,20,2)\n",
    "arr8"
   ]
  },
  {
   "cell_type": "code",
   "execution_count": 34,
   "id": "b878e487",
   "metadata": {},
   "outputs": [
    {
     "data": {
      "text/plain": [
       "array([[1., 1., 1.],\n",
       "       [1., 1., 1.]])"
      ]
     },
     "execution_count": 34,
     "metadata": {},
     "output_type": "execute_result"
    }
   ],
   "source": [
    "arr4"
   ]
  },
  {
   "cell_type": "code",
   "execution_count": 35,
   "id": "550bf252",
   "metadata": {},
   "outputs": [
    {
     "data": {
      "text/plain": [
       "array([10, 12, 14, 16, 18])"
      ]
     },
     "execution_count": 35,
     "metadata": {},
     "output_type": "execute_result"
    }
   ],
   "source": [
    "arr8"
   ]
  },
  {
   "cell_type": "code",
   "execution_count": 36,
   "id": "92138f83",
   "metadata": {},
   "outputs": [
    {
     "data": {
      "text/plain": [
       "array([[1., 1., 1.],\n",
       "       [1., 1., 1.]])"
      ]
     },
     "execution_count": 36,
     "metadata": {},
     "output_type": "execute_result"
    }
   ],
   "source": [
    "arr8=arr4.copy()\n",
    "arr8"
   ]
  },
  {
   "cell_type": "code",
   "execution_count": 37,
   "id": "a678cf5d",
   "metadata": {},
   "outputs": [
    {
     "data": {
      "text/plain": [
       "(2, 3)"
      ]
     },
     "execution_count": 37,
     "metadata": {},
     "output_type": "execute_result"
    }
   ],
   "source": [
    "arr8.shape"
   ]
  },
  {
   "cell_type": "code",
   "execution_count": 39,
   "id": "c924932f",
   "metadata": {},
   "outputs": [
    {
     "name": "stdout",
     "output_type": "stream",
     "text": [
      "3\n",
      "[[[1 3]\n",
      "  [3 4]]\n",
      "\n",
      " [[5 6]\n",
      "  [4 6]]]\n"
     ]
    }
   ],
   "source": [
    "arr9 = np.array([[[1,3],[3,4]],[[5,6],[4,6]]])\n",
    "print(arr9.ndim)\n",
    "print(arr9)"
   ]
  },
  {
   "cell_type": "code",
   "execution_count": 47,
   "id": "e7453722",
   "metadata": {},
   "outputs": [
    {
     "name": "stdout",
     "output_type": "stream",
     "text": [
      "[[[[1 2]]]]\n",
      "4\n",
      "(1, 1, 1, 2)\n"
     ]
    }
   ],
   "source": [
    "arr10 = np.array([[[[1,2]]]])\n",
    "print(arr10)\n",
    "print(arr10.ndim)\n",
    "print(arr10.shape)"
   ]
  },
  {
   "cell_type": "code",
   "execution_count": 46,
   "id": "19f1fb61",
   "metadata": {},
   "outputs": [
    {
     "data": {
      "text/plain": [
       "2"
      ]
     },
     "execution_count": 46,
     "metadata": {},
     "output_type": "execute_result"
    }
   ],
   "source": [
    "arr10.size"
   ]
  },
  {
   "cell_type": "code",
   "execution_count": 48,
   "id": "70c34247",
   "metadata": {},
   "outputs": [
    {
     "data": {
      "text/plain": [
       "4"
      ]
     },
     "execution_count": 48,
     "metadata": {},
     "output_type": "execute_result"
    }
   ],
   "source": [
    "arr10.itemsize"
   ]
  },
  {
   "cell_type": "code",
   "execution_count": 51,
   "id": "fb4b6046",
   "metadata": {},
   "outputs": [
    {
     "name": "stdout",
     "output_type": "stream",
     "text": [
      "[[[[1 2]]]]\n",
      "int32\n"
     ]
    }
   ],
   "source": [
    "print(arr10)\n",
    "print(arr10.dtype)"
   ]
  },
  {
   "cell_type": "code",
   "execution_count": 55,
   "id": "d5d84822",
   "metadata": {},
   "outputs": [
    {
     "data": {
      "text/plain": [
       "array([[1., 1., 1.],\n",
       "       [1., 1., 1.]])"
      ]
     },
     "execution_count": 55,
     "metadata": {},
     "output_type": "execute_result"
    }
   ],
   "source": [
    "arr4.astype('float')\n"
   ]
  },
  {
   "cell_type": "code",
   "execution_count": 57,
   "id": "9b8fff5d",
   "metadata": {},
   "outputs": [],
   "source": [
    "lista=range(100)\n",
    "arr11 = np.arange(100)\n"
   ]
  },
  {
   "cell_type": "code",
   "execution_count": 60,
   "id": "50274f95",
   "metadata": {},
   "outputs": [
    {
     "name": "stdout",
     "output_type": "stream",
     "text": [
      "2800\n"
     ]
    }
   ],
   "source": [
    "import sys\n",
    "print(sys.getsizeof(12)*len(lista))"
   ]
  },
  {
   "cell_type": "code",
   "execution_count": 61,
   "id": "17964835",
   "metadata": {},
   "outputs": [
    {
     "name": "stdout",
     "output_type": "stream",
     "text": [
      "400\n"
     ]
    }
   ],
   "source": [
    "print(arr11.itemsize*arr11.size)"
   ]
  },
  {
   "cell_type": "markdown",
   "id": "510a7947",
   "metadata": {},
   "source": [
    "# Indexing ,Slicing and Iteration\n"
   ]
  },
  {
   "cell_type": "code",
   "execution_count": 68,
   "id": "973f9c2a",
   "metadata": {},
   "outputs": [
    {
     "name": "stdout",
     "output_type": "stream",
     "text": [
      "[[ 0  1  2  3]\n",
      " [ 4  5  6  7]\n",
      " [ 8  9 10 11]\n",
      " [12 13 14 15]\n",
      " [16 17 18 19]\n",
      " [20 21 22 23]]\n"
     ]
    }
   ],
   "source": [
    "arr = np.arange(24).reshape(6,4)\n",
    "print(arr)"
   ]
  },
  {
   "cell_type": "code",
   "execution_count": 110,
   "id": "500a2538",
   "metadata": {},
   "outputs": [
    {
     "data": {
      "text/plain": [
       "array([[ 9, 10],\n",
       "       [13, 14]])"
      ]
     },
     "execution_count": 110,
     "metadata": {},
     "output_type": "execute_result"
    }
   ],
   "source": [
    "# arr[(rows),(coloumns)]\n",
    "arr[2:4,1:3]"
   ]
  },
  {
   "cell_type": "code",
   "execution_count": 112,
   "id": "20d43d7e",
   "metadata": {},
   "outputs": [
    {
     "data": {
      "text/plain": [
       "array([[16, 17],\n",
       "       [20, 21]])"
      ]
     },
     "execution_count": 112,
     "metadata": {},
     "output_type": "execute_result"
    }
   ],
   "source": [
    "arr[4:6,0:2]"
   ]
  },
  {
   "cell_type": "code",
   "execution_count": 113,
   "id": "787f373d",
   "metadata": {},
   "outputs": [
    {
     "data": {
      "text/plain": [
       "array([[ 9, 10],\n",
       "       [13, 14],\n",
       "       [17, 18],\n",
       "       [21, 22]])"
      ]
     },
     "execution_count": 113,
     "metadata": {},
     "output_type": "execute_result"
    }
   ],
   "source": [
    "arr[2:6,1:3]"
   ]
  },
  {
   "cell_type": "code",
   "execution_count": 14,
   "id": "efa77cc2",
   "metadata": {},
   "outputs": [
    {
     "name": "stdout",
     "output_type": "stream",
     "text": [
      "[[ 0  1  2  3  4  5]\n",
      " [ 6  7  8  9 10 11]\n",
      " [12 13 14 15 16 17]\n",
      " [18 19 20 21 22 23]\n",
      " [24 25 26 27 28 29]]\n"
     ]
    }
   ],
   "source": [
    "# import numpy as np\n",
    "arr2 = np.arange(30).reshape(5,6)\n",
    "print(arr2)"
   ]
  },
  {
   "cell_type": "code",
   "execution_count": 9,
   "id": "91520c12",
   "metadata": {},
   "outputs": [
    {
     "name": "stdout",
     "output_type": "stream",
     "text": [
      "[[12 13 14 15 16 17]\n",
      " [18 19 20 21 22 23]]\n"
     ]
    }
   ],
   "source": [
    "print(arr2[2:4])"
   ]
  },
  {
   "cell_type": "code",
   "execution_count": 16,
   "id": "c407e860",
   "metadata": {},
   "outputs": [
    {
     "name": "stdout",
     "output_type": "stream",
     "text": [
      "[[13 14 15 16]\n",
      " [19 20 21 22]]\n"
     ]
    }
   ],
   "source": [
    "print(arr2[2:4,1:5])"
   ]
  },
  {
   "cell_type": "code",
   "execution_count": 26,
   "id": "b75087ef",
   "metadata": {},
   "outputs": [
    {
     "name": "stdout",
     "output_type": "stream",
     "text": [
      "[[ 1  3  5]\n",
      " [13 15 17]\n",
      " [25 27 29]]\n"
     ]
    }
   ],
   "source": [
    "print(arr2[::2,1::2])"
   ]
  },
  {
   "cell_type": "code",
   "execution_count": 35,
   "id": "8b0b3c98",
   "metadata": {},
   "outputs": [
    {
     "name": "stdout",
     "output_type": "stream",
     "text": [
      "[0 1 2 3 4 5]\n",
      "[ 6  7  8  9 10 11]\n",
      "[12 13 14 15 16 17]\n",
      "[18 19 20 21 22 23]\n",
      "[24 25 26 27 28 29]\n"
     ]
    }
   ],
   "source": [
    "# for iterator in iterable \n",
    "for i in arr2:\n",
    "    print(i)"
   ]
  },
  {
   "cell_type": "code",
   "execution_count": 36,
   "id": "b479fb09",
   "metadata": {},
   "outputs": [
    {
     "name": "stdout",
     "output_type": "stream",
     "text": [
      "0\n",
      "1\n",
      "2\n",
      "3\n",
      "4\n",
      "5\n",
      "6\n",
      "7\n",
      "8\n",
      "9\n",
      "10\n",
      "11\n",
      "12\n",
      "13\n",
      "14\n",
      "15\n",
      "16\n",
      "17\n",
      "18\n",
      "19\n",
      "20\n",
      "21\n",
      "22\n",
      "23\n",
      "24\n",
      "25\n",
      "26\n",
      "27\n",
      "28\n",
      "29\n"
     ]
    }
   ],
   "source": [
    "# apply filter on every pixel of image\n",
    "for i in np.nditer(arr2):\n",
    "    print (i)"
   ]
  },
  {
   "cell_type": "markdown",
   "id": "43208cae",
   "metadata": {},
   "source": [
    "# Numpy Operation\n"
   ]
  },
  {
   "cell_type": "code",
   "execution_count": 37,
   "id": "25c9a0f0",
   "metadata": {},
   "outputs": [
    {
     "name": "stdout",
     "output_type": "stream",
     "text": [
      "[1 2 3 4 5 6]\n",
      "[4 5 6 7 8 9]\n"
     ]
    }
   ],
   "source": [
    "new_arr1 = np.array([1,2,3,4,5,6])\n",
    "new_arr2 = np.array([4,5,6,7,8,9])\n",
    "print(new_arr1)\n",
    "print(new_arr2)"
   ]
  },
  {
   "cell_type": "code",
   "execution_count": 39,
   "id": "0e06ad51",
   "metadata": {},
   "outputs": [
    {
     "name": "stdout",
     "output_type": "stream",
     "text": [
      "[ 5  7  9 11 13 15]\n",
      "[-3 -3 -3 -3 -3 -3]\n"
     ]
    }
   ],
   "source": [
    "# Addition \n",
    "print(new_arr1+new_arr2)\n",
    "# substraction\n",
    "print(new_arr1-new_arr2)"
   ]
  },
  {
   "cell_type": "code",
   "execution_count": 40,
   "id": "90f4a53c",
   "metadata": {},
   "outputs": [
    {
     "name": "stdout",
     "output_type": "stream",
     "text": [
      "[ 4 10 18 28 40 54]\n"
     ]
    }
   ],
   "source": [
    "# Multiplication\n",
    "print(new_arr1*new_arr2)"
   ]
  },
  {
   "cell_type": "code",
   "execution_count": 44,
   "id": "18583794",
   "metadata": {},
   "outputs": [
    {
     "name": "stdout",
     "output_type": "stream",
     "text": [
      "[ 2  4  6  8 10 12]\n"
     ]
    }
   ],
   "source": [
    "# Multiply by 2\n",
    "print(new_arr1*2)"
   ]
  },
  {
   "cell_type": "code",
   "execution_count": 43,
   "id": "37cfda96",
   "metadata": {},
   "outputs": [
    {
     "name": "stdout",
     "output_type": "stream",
     "text": [
      "[ 1  4  9 16 25 36]\n"
     ]
    }
   ],
   "source": [
    "# power\n",
    "print(new_arr1**2)"
   ]
  },
  {
   "cell_type": "code",
   "execution_count": 45,
   "id": "8a7a27ce",
   "metadata": {},
   "outputs": [
    {
     "data": {
      "text/plain": [
       "array([False, False, False,  True,  True,  True])"
      ]
     },
     "execution_count": 45,
     "metadata": {},
     "output_type": "execute_result"
    }
   ],
   "source": [
    "new_arr1>3"
   ]
  },
  {
   "cell_type": "code",
   "execution_count": 47,
   "id": "2b3cbcc7",
   "metadata": {},
   "outputs": [
    {
     "name": "stdout",
     "output_type": "stream",
     "text": [
      "[[0 1 2]\n",
      " [3 4 5]]\n",
      "[[0 1]\n",
      " [2 3]\n",
      " [4 5]]\n"
     ]
    }
   ],
   "source": [
    "new_arr3 = np.arange(6).reshape(2,3)\n",
    "new_arr4 = np.arange(6).reshape(3,2)\n",
    "print(new_arr3)\n",
    "print(new_arr4)"
   ]
  },
  {
   "cell_type": "code",
   "execution_count": 50,
   "id": "d1c462f5",
   "metadata": {},
   "outputs": [
    {
     "data": {
      "text/plain": [
       "array([[10, 13],\n",
       "       [28, 40]])"
      ]
     },
     "execution_count": 50,
     "metadata": {},
     "output_type": "execute_result"
    }
   ],
   "source": [
    "new_arr3.dot(new_arr4)"
   ]
  },
  {
   "cell_type": "code",
   "execution_count": 48,
   "id": "0a3af600",
   "metadata": {},
   "outputs": [
    {
     "name": "stdout",
     "output_type": "stream",
     "text": [
      "[[10 13]\n",
      " [28 40]]\n"
     ]
    }
   ],
   "source": [
    "new_arr5 = new_arr3.dot(new_arr4)\n",
    "print(new_arr5)"
   ]
  },
  {
   "cell_type": "code",
   "execution_count": 57,
   "id": "86d31dbb",
   "metadata": {},
   "outputs": [
    {
     "data": {
      "text/plain": [
       "40"
      ]
     },
     "execution_count": 57,
     "metadata": {},
     "output_type": "execute_result"
    }
   ],
   "source": [
    "new_arr5.max()"
   ]
  },
  {
   "cell_type": "code",
   "execution_count": 58,
   "id": "f17b1350",
   "metadata": {},
   "outputs": [
    {
     "data": {
      "text/plain": [
       "10"
      ]
     },
     "execution_count": 58,
     "metadata": {},
     "output_type": "execute_result"
    }
   ],
   "source": [
    "new_arr5.min()"
   ]
  },
  {
   "cell_type": "code",
   "execution_count": 59,
   "id": "d0219805",
   "metadata": {},
   "outputs": [
    {
     "data": {
      "text/plain": [
       "array([10, 13])"
      ]
     },
     "execution_count": 59,
     "metadata": {},
     "output_type": "execute_result"
    }
   ],
   "source": [
    "new_arr5.min(axis=0)"
   ]
  },
  {
   "cell_type": "code",
   "execution_count": 60,
   "id": "5a67444b",
   "metadata": {},
   "outputs": [
    {
     "data": {
      "text/plain": [
       "array([28, 40])"
      ]
     },
     "execution_count": 60,
     "metadata": {},
     "output_type": "execute_result"
    }
   ],
   "source": [
    "new_arr5.max(axis=0)"
   ]
  },
  {
   "cell_type": "code",
   "execution_count": 61,
   "id": "7d56f11a",
   "metadata": {},
   "outputs": [
    {
     "data": {
      "text/plain": [
       "array([10, 28])"
      ]
     },
     "execution_count": 61,
     "metadata": {},
     "output_type": "execute_result"
    }
   ],
   "source": [
    "new_arr5.min(axis=1)"
   ]
  },
  {
   "cell_type": "code",
   "execution_count": 63,
   "id": "e108183c",
   "metadata": {},
   "outputs": [
    {
     "data": {
      "text/plain": [
       "array([13, 40])"
      ]
     },
     "execution_count": 63,
     "metadata": {},
     "output_type": "execute_result"
    }
   ],
   "source": [
    "new_arr5.max(axis=1)"
   ]
  },
  {
   "cell_type": "code",
   "execution_count": 64,
   "id": "9e21df84",
   "metadata": {},
   "outputs": [
    {
     "data": {
      "text/plain": [
       "22.75"
      ]
     },
     "execution_count": 64,
     "metadata": {},
     "output_type": "execute_result"
    }
   ],
   "source": [
    "new_arr5.mean()"
   ]
  },
  {
   "cell_type": "code",
   "execution_count": 65,
   "id": "3cc0a70c",
   "metadata": {},
   "outputs": [
    {
     "data": {
      "text/plain": [
       "12.07010770457331"
      ]
     },
     "execution_count": 65,
     "metadata": {},
     "output_type": "execute_result"
    }
   ],
   "source": [
    "new_arr5.std()"
   ]
  },
  {
   "cell_type": "code",
   "execution_count": 72,
   "id": "4a38ab7a",
   "metadata": {},
   "outputs": [
    {
     "name": "stdout",
     "output_type": "stream",
     "text": [
      "[[10 13]\n",
      " [28 40]]\n",
      "2\n"
     ]
    }
   ],
   "source": [
    "# Reshaping Numpy Arrays\n",
    "print(new_arr5)\n",
    "print(new_arr5.ndim)\n"
   ]
  },
  {
   "cell_type": "code",
   "execution_count": 75,
   "id": "659d1be1",
   "metadata": {},
   "outputs": [
    {
     "name": "stdout",
     "output_type": "stream",
     "text": [
      "[10 13 28 40]\n",
      "1\n"
     ]
    }
   ],
   "source": [
    "# convert higher dimensional to one dimension\n",
    "new_arr6=new_arr5.ravel()\n",
    "print(new_arr6)\n",
    "print(new_arr6.ndim)"
   ]
  },
  {
   "cell_type": "code",
   "execution_count": 77,
   "id": "f108b86f",
   "metadata": {},
   "outputs": [
    {
     "name": "stdout",
     "output_type": "stream",
     "text": [
      "[[10 13]\n",
      " [28 40]]\n"
     ]
    },
    {
     "data": {
      "text/plain": [
       "array([[10, 28],\n",
       "       [13, 40]])"
      ]
     },
     "execution_count": 77,
     "metadata": {},
     "output_type": "execute_result"
    }
   ],
   "source": [
    "print(new_arr5)\n",
    "new_arr5.transpose()"
   ]
  },
  {
   "cell_type": "code",
   "execution_count": 91,
   "id": "393f8005",
   "metadata": {},
   "outputs": [
    {
     "data": {
      "text/plain": [
       "array([[0, 1],\n",
       "       [2, 3]])"
      ]
     },
     "execution_count": 91,
     "metadata": {},
     "output_type": "execute_result"
    }
   ],
   "source": [
    "new_arr6 = np.arange(4).reshape(2,2)\n",
    "new_arr6"
   ]
  },
  {
   "cell_type": "code",
   "execution_count": 92,
   "id": "0a3fce3e",
   "metadata": {},
   "outputs": [
    {
     "data": {
      "text/plain": [
       "array([[10, 13,  0,  1],\n",
       "       [28, 40,  2,  3]])"
      ]
     },
     "execution_count": 92,
     "metadata": {},
     "output_type": "execute_result"
    }
   ],
   "source": [
    "np.hstack((new_arr5,new_arr6))"
   ]
  },
  {
   "cell_type": "code",
   "execution_count": 93,
   "id": "b986a0b0",
   "metadata": {},
   "outputs": [
    {
     "data": {
      "text/plain": [
       "array([[10, 13],\n",
       "       [28, 40],\n",
       "       [ 0,  1],\n",
       "       [ 2,  3]])"
      ]
     },
     "execution_count": 93,
     "metadata": {},
     "output_type": "execute_result"
    }
   ],
   "source": [
    "np.vstack((new_arr5,new_arr6))"
   ]
  },
  {
   "cell_type": "code",
   "execution_count": 95,
   "id": "f8c405ac",
   "metadata": {},
   "outputs": [
    {
     "data": {
      "text/plain": [
       "[array([[10],\n",
       "        [28]]),\n",
       " array([[13],\n",
       "        [40]])]"
      ]
     },
     "execution_count": 95,
     "metadata": {},
     "output_type": "execute_result"
    }
   ],
   "source": [
    "np.hsplit(new_arr5,2)"
   ]
  },
  {
   "cell_type": "code",
   "execution_count": 96,
   "id": "aa3dca83",
   "metadata": {},
   "outputs": [
    {
     "data": {
      "text/plain": [
       "[array([[10, 13]]), array([[28, 40]])]"
      ]
     },
     "execution_count": 96,
     "metadata": {},
     "output_type": "execute_result"
    }
   ],
   "source": [
    "np.vsplit(new_arr5,2)"
   ]
  }
 ],
 "metadata": {
  "kernelspec": {
   "display_name": "Python 3",
   "language": "python",
   "name": "python3"
  },
  "language_info": {
   "codemirror_mode": {
    "name": "ipython",
    "version": 3
   },
   "file_extension": ".py",
   "mimetype": "text/x-python",
   "name": "python",
   "nbconvert_exporter": "python",
   "pygments_lexer": "ipython3",
   "version": "3.8.8"
  }
 },
 "nbformat": 4,
 "nbformat_minor": 5
}
