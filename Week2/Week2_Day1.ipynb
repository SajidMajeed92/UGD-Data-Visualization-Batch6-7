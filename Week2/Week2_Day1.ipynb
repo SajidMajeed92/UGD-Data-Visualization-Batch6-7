{
 "cells": [
  {
   "cell_type": "code",
   "execution_count": 1,
   "id": "bab6970f",
   "metadata": {},
   "outputs": [],
   "source": [
    "import numpy as np"
   ]
  },
  {
   "cell_type": "markdown",
   "id": "1e160372",
   "metadata": {},
   "source": [
    "# Fancy Indexing"
   ]
  },
  {
   "cell_type": "code",
   "execution_count": 2,
   "id": "dfdfca55",
   "metadata": {},
   "outputs": [
    {
     "data": {
      "text/plain": [
       "array([[ 0,  1,  2,  3],\n",
       "       [ 4,  5,  6,  7],\n",
       "       [ 8,  9, 10, 11],\n",
       "       [12, 13, 14, 15],\n",
       "       [16, 17, 18, 19],\n",
       "       [20, 21, 22, 23]])"
      ]
     },
     "execution_count": 2,
     "metadata": {},
     "output_type": "execute_result"
    }
   ],
   "source": [
    "new_arr7 = np.arange(24).reshape(6,4)\n",
    "new_arr7"
   ]
  },
  {
   "cell_type": "code",
   "execution_count": 7,
   "id": "902addf6",
   "metadata": {},
   "outputs": [
    {
     "name": "stdout",
     "output_type": "stream",
     "text": [
      "[[ 0  1  2  3]\n",
      " [ 8  9 10 11]\n",
      " [16 17 18 19]]\n"
     ]
    }
   ],
   "source": [
    "print(new_arr7[[0,2,4]])"
   ]
  },
  {
   "cell_type": "code",
   "execution_count": 8,
   "id": "35f80a2a",
   "metadata": {},
   "outputs": [
    {
     "name": "stdout",
     "output_type": "stream",
     "text": [
      "[[ 4  5  6  7]\n",
      " [12 13 14 15]\n",
      " [20 21 22 23]]\n"
     ]
    }
   ],
   "source": [
    "print(new_arr7[[1,3,5]])"
   ]
  },
  {
   "cell_type": "code",
   "execution_count": 14,
   "id": "9ff0a9a2",
   "metadata": {},
   "outputs": [
    {
     "data": {
      "text/plain": [
       "array([[59, 16, 72, 49, 77],\n",
       "       [53, 83, 94, 48, 13],\n",
       "       [88, 48,  5, 54, 52],\n",
       "       [74, 36, 78, 92, 43]])"
      ]
     },
     "execution_count": 14,
     "metadata": {},
     "output_type": "execute_result"
    }
   ],
   "source": [
    "# For Binary Array\n",
    "new_arr = np.random.randint(low=1,high=100,size=20).reshape(4,5)\n",
    "new_arr"
   ]
  },
  {
   "cell_type": "code",
   "execution_count": 17,
   "id": "85d45fc1",
   "metadata": {},
   "outputs": [
    {
     "data": {
      "text/plain": [
       "88"
      ]
     },
     "execution_count": 17,
     "metadata": {},
     "output_type": "execute_result"
    }
   ],
   "source": [
    "new_arr[2][0]"
   ]
  },
  {
   "cell_type": "code",
   "execution_count": 18,
   "id": "0116c2eb",
   "metadata": {},
   "outputs": [
    {
     "data": {
      "text/plain": [
       "array([[ True, False,  True, False,  True],\n",
       "       [ True,  True,  True, False, False],\n",
       "       [ True, False, False,  True,  True],\n",
       "       [ True, False,  True,  True, False]])"
      ]
     },
     "execution_count": 18,
     "metadata": {},
     "output_type": "execute_result"
    }
   ],
   "source": [
    "new_arr>50"
   ]
  },
  {
   "cell_type": "code",
   "execution_count": 21,
   "id": "2331533e",
   "metadata": {},
   "outputs": [
    {
     "data": {
      "text/plain": [
       "array([59, 72, 77, 53, 83, 94, 88, 54, 52, 74, 78, 92])"
      ]
     },
     "execution_count": 21,
     "metadata": {},
     "output_type": "execute_result"
    }
   ],
   "source": [
    "# Retrives all no having value greater then 50\n",
    "new_arr[new_arr>50]"
   ]
  },
  {
   "cell_type": "code",
   "execution_count": 22,
   "id": "979a1ebf",
   "metadata": {},
   "outputs": [
    {
     "data": {
      "text/plain": [
       "array([59, 77, 53, 83])"
      ]
     },
     "execution_count": 22,
     "metadata": {},
     "output_type": "execute_result"
    }
   ],
   "source": [
    "# Retrives all odd no with value greater then 50\n",
    "new_arr[(new_arr>50)&(new_arr%2!=0)]"
   ]
  },
  {
   "cell_type": "code",
   "execution_count": 23,
   "id": "e9418487",
   "metadata": {},
   "outputs": [
    {
     "data": {
      "text/plain": [
       "array([72, 94, 88, 54, 52, 74, 78, 92])"
      ]
     },
     "execution_count": 23,
     "metadata": {},
     "output_type": "execute_result"
    }
   ],
   "source": [
    "# Retrives all even no with value greater then 50\n",
    "new_arr[(new_arr>50)&(new_arr%2==0)]"
   ]
  },
  {
   "cell_type": "code",
   "execution_count": 28,
   "id": "bacc4727",
   "metadata": {},
   "outputs": [
    {
     "data": {
      "text/plain": [
       "array([[ 0, 16, 72, 49,  0],\n",
       "       [ 0,  0, 94, 48, 13],\n",
       "       [88, 48,  5, 54, 52],\n",
       "       [74, 36, 78, 92, 43]])"
      ]
     },
     "execution_count": 28,
     "metadata": {},
     "output_type": "execute_result"
    }
   ],
   "source": [
    "# Retrives all odd no with value greater then 50 and replace these no with 0\n",
    "new_arr[(new_arr>50)&(new_arr%2!=0)]=0\n",
    "new_arr"
   ]
  },
  {
   "cell_type": "code",
   "execution_count": 2,
   "id": "604b8d07",
   "metadata": {},
   "outputs": [
    {
     "data": {
      "text/plain": [
       "100"
      ]
     },
     "execution_count": 2,
     "metadata": {},
     "output_type": "execute_result"
    }
   ],
   "source": [
    "x=np.linspace(-30,30,100)\n",
    "x.size"
   ]
  },
  {
   "cell_type": "code",
   "execution_count": 3,
   "id": "49ccf07e",
   "metadata": {},
   "outputs": [
    {
     "data": {
      "text/plain": [
       "array([ 0.98803162,  0.8999285 ,  0.49126797, -0.09238378, -0.64312813,\n",
       "       -0.96478819, -0.94278761, -0.58496307, -0.01877282,  0.55410437,\n",
       "        0.92960782,  0.97398199,  0.67142066,  0.12969715, -0.4582249 ,\n",
       "       -0.88292578, -0.99312567, -0.74957103, -0.23901679,  0.35667599,\n",
       "        0.82531964,  0.99998181,  0.81844725,  0.34537917, -0.25071407,\n",
       "       -0.75750216, -0.99446556, -0.87719715, -0.44746832,  0.14165016,\n",
       "        0.68031241,  0.97664519,  0.92509384,  0.54402111, -0.03083368,\n",
       "       -0.59470541, -0.94674118, -0.96154471, -0.63384295, -0.0803643 ,\n",
       "        0.50174037,  0.90512352,  0.98609877,  0.7158225 ,  0.19056796,\n",
       "       -0.40256749, -0.85230712, -0.99845223, -0.78894546, -0.2984138 ,\n",
       "        0.2984138 ,  0.78894546,  0.99845223,  0.85230712,  0.40256749,\n",
       "       -0.19056796, -0.7158225 , -0.98609877, -0.90512352, -0.50174037,\n",
       "        0.0803643 ,  0.63384295,  0.96154471,  0.94674118,  0.59470541,\n",
       "        0.03083368, -0.54402111, -0.92509384, -0.97664519, -0.68031241,\n",
       "       -0.14165016,  0.44746832,  0.87719715,  0.99446556,  0.75750216,\n",
       "        0.25071407, -0.34537917, -0.81844725, -0.99998181, -0.82531964,\n",
       "       -0.35667599,  0.23901679,  0.74957103,  0.99312567,  0.88292578,\n",
       "        0.4582249 , -0.12969715, -0.67142066, -0.97398199, -0.92960782,\n",
       "       -0.55410437,  0.01877282,  0.58496307,  0.94278761,  0.96478819,\n",
       "        0.64312813,  0.09238378, -0.49126797, -0.8999285 , -0.98803162])"
      ]
     },
     "execution_count": 3,
     "metadata": {},
     "output_type": "execute_result"
    }
   ],
   "source": [
    "y=np.sin(x)\n",
    "y"
   ]
  },
  {
   "cell_type": "code",
   "execution_count": 4,
   "id": "9a60df5b",
   "metadata": {},
   "outputs": [],
   "source": [
    "import matplotlib.pyplot as plt"
   ]
  },
  {
   "cell_type": "code",
   "execution_count": 13,
   "id": "e66b62dd",
   "metadata": {},
   "outputs": [
    {
     "data": {
      "image/png": "[encoded data removed]",
      "text/plain": [
       "<Figure size 432x288 with 1 Axes>"
      ]
     },
     "metadata": {
      "needs_background": "light"
     },
     "output_type": "display_data"
    }
   ],
   "source": [
    "plt.title(\"sine wave\",fontsize=14, color='green')\n",
    "plt.xlabel(\"X-values\",fontsize=14, color='green')\n",
    "plt.ylabel(\"sine values\",fontsize=14, color='green')\n",
    "plt.plot(x,y, color='green')\n",
    "plt.show()"
   ]
  },
  {
   "cell_type": "code",
   "execution_count": 14,
   "id": "a40041d2",
   "metadata": {},
   "outputs": [],
   "source": [
    "y= x**2+2*x+6"
   ]
  },
  {
   "cell_type": "code",
   "execution_count": 17,
   "id": "fe1b9b84",
   "metadata": {},
   "outputs": [
    {
     "data": {
      "image/png": "[encoded data removed]",
      "text/plain": [
       "<Figure size 432x288 with 1 Axes>"
      ]
     },
     "metadata": {
      "needs_background": "light"
     },
     "output_type": "display_data"
    }
   ],
   "source": [
    "plt.title(\"qudratic Equ\",fontsize=14, color='green')\n",
    "plt.xlabel(\"X-values\",fontsize=14, color='green')\n",
    "plt.ylabel(\"y values\",fontsize=14, color='green')\n",
    "plt.plot(x,y, color='green')\n",
    "plt.show()"
   ]
  },
  {
   "cell_type": "code",
   "execution_count": 19,
   "id": "156a9b31",
   "metadata": {},
   "outputs": [
    {
     "data": {
      "text/plain": [
       "array([5, 6, 7])"
      ]
     },
     "execution_count": 19,
     "metadata": {},
     "output_type": "execute_result"
    }
   ],
   "source": [
    "np.arange(3)+5"
   ]
  },
  {
   "cell_type": "code",
   "execution_count": 25,
   "id": "3158aeb2",
   "metadata": {},
   "outputs": [
    {
     "data": {
      "text/plain": [
       "array([[1., 2., 3.],\n",
       "       [1., 2., 3.],\n",
       "       [1., 2., 3.]])"
      ]
     },
     "execution_count": 25,
     "metadata": {},
     "output_type": "execute_result"
    }
   ],
   "source": [
    "np.ones((3,3))+np.arange(3)"
   ]
  },
  {
   "cell_type": "code",
   "execution_count": 29,
   "id": "392db705",
   "metadata": {},
   "outputs": [
    {
     "data": {
      "text/plain": [
       "array([[0, 1, 2],\n",
       "       [1, 2, 3],\n",
       "       [2, 3, 4]])"
      ]
     },
     "execution_count": 29,
     "metadata": {},
     "output_type": "execute_result"
    }
   ],
   "source": [
    "np.arange(3).reshape(3,1)+np.arange(3)"
   ]
  },
  {
   "cell_type": "code",
   "execution_count": 33,
   "id": "f010abaf",
   "metadata": {},
   "outputs": [
    {
     "name": "stdout",
     "output_type": "stream",
     "text": [
      "[[0 1 2 3]\n",
      " [4 5 6 7]]\n",
      "[[ 8  9 10 11]\n",
      " [12 13 14 15]]\n",
      "[[ 8 10 12 14]\n",
      " [16 18 20 22]]\n"
     ]
    }
   ],
   "source": [
    "# if x=m and y=n , operation will take place\n",
    "a1= np.arange(8).reshape(2,4)\n",
    "print(a1)\n",
    "a2= np.arange(8,16).reshape(2,4)\n",
    "print(a2)\n",
    "print(a1+a2)"
   ]
  },
  {
   "cell_type": "code",
   "execution_count": 38,
   "id": "6ecb2bcb",
   "metadata": {},
   "outputs": [
    {
     "name": "stdout",
     "output_type": "stream",
     "text": [
      "[[0 1 2]]\n",
      "[[ 0  1  2]\n",
      " [ 3  4  5]\n",
      " [ 6  7  8]\n",
      " [ 9 10 11]]\n",
      "[[ 0  2  4]\n",
      " [ 3  5  7]\n",
      " [ 6  8 10]\n",
      " [ 9 11 13]]\n"
     ]
    }
   ],
   "source": [
    "# if x=1 and y=n , then also operation will take place (same dimension)\n",
    "a3= np.arange(3).reshape(1,3) # check corresponding element \n",
    "print(a3)\n",
    "a4= np.arange(12).reshape(4,3)\n",
    "print(a4)\n",
    "print(a3+a4)"
   ]
  },
  {
   "cell_type": "code",
   "execution_count": 39,
   "id": "298b2ab4",
   "metadata": {},
   "outputs": [
    {
     "name": "stdout",
     "output_type": "stream",
     "text": [
      "[[0 1 2]]\n",
      "[[ 0  1  2  3]\n",
      " [ 4  5  6  7]\n",
      " [ 8  9 10 11]\n",
      " [12 13 14 15]]\n"
     ]
    }
   ],
   "source": [
    "# if x=1 and y!=n , then also operation will not take place \n",
    "a5= np.arange(3).reshape(1,3) # check corresponding element \n",
    "a6= np.arange(16).reshape(4,4)\n",
    "print(a5)\n",
    "print(a6)"
   ]
  },
  {
   "cell_type": "code",
   "execution_count": 40,
   "id": "174df401",
   "metadata": {},
   "outputs": [
    {
     "ename": "ValueError",
     "evalue": "operands could not be broadcast together with shapes (1,3) (4,4) ",
     "output_type": "error",
     "traceback": [
      "\u001b[1;31m---------------------------------------------------------------------------\u001b[0m",
      "\u001b[1;31mValueError\u001b[0m                                Traceback (most recent call last)",
      "\u001b[1;32m<ipython-input-40-0365403ac89c>\u001b[0m in \u001b[0;36m<module>\u001b[1;34m\u001b[0m\n\u001b[1;32m----> 1\u001b[1;33m \u001b[0mprint\u001b[0m\u001b[1;33m(\u001b[0m\u001b[0ma5\u001b[0m\u001b[1;33m+\u001b[0m\u001b[0ma6\u001b[0m\u001b[1;33m)\u001b[0m\u001b[1;33m\u001b[0m\u001b[1;33m\u001b[0m\u001b[0m\n\u001b[0m",
      "\u001b[1;31mValueError\u001b[0m: operands could not be broadcast together with shapes (1,3) (4,4) "
     ]
    }
   ],
   "source": [
    "print(a5+a6)"
   ]
  },
  {
   "cell_type": "code",
   "execution_count": 41,
   "id": "bfbd70dc",
   "metadata": {},
   "outputs": [
    {
     "name": "stdout",
     "output_type": "stream",
     "text": [
      "[[0 1 2]]\n",
      "[[0]\n",
      " [1]\n",
      " [2]]\n"
     ]
    }
   ],
   "source": [
    "# if x=1 and n=1 y==m   , operation take place \n",
    "a9= np.arange(3).reshape(1,3) # check corresponding element \n",
    "a10= np.arange(3).reshape(3,1)\n",
    "print(a9)\n",
    "print(a10)   "
   ]
  },
  {
   "cell_type": "code",
   "execution_count": 42,
   "id": "13a2d5f7",
   "metadata": {},
   "outputs": [
    {
     "name": "stdout",
     "output_type": "stream",
     "text": [
      "[[0 1 2]\n",
      " [1 2 3]\n",
      " [2 3 4]]\n"
     ]
    }
   ],
   "source": [
    "print(a9+a10)"
   ]
  },
  {
   "cell_type": "code",
   "execution_count": 43,
   "id": "3753c52c",
   "metadata": {},
   "outputs": [
    {
     "name": "stdout",
     "output_type": "stream",
     "text": [
      "[0 1 2 3]\n",
      "[[ 0  1  2  3]\n",
      " [ 4  5  6  7]\n",
      " [ 8  9 10 11]\n",
      " [12 13 14 15]\n",
      " [16 17 18 19]]\n"
     ]
    }
   ],
   "source": [
    "# if they are different dimension       \n",
    "a13= np.arange(4)\n",
    "a14= np.arange(20).reshape(5,4)\n",
    "print(a13)\n",
    "print(a14) "
   ]
  },
  {
   "cell_type": "code",
   "execution_count": 44,
   "id": "be8017e9",
   "metadata": {},
   "outputs": [
    {
     "name": "stdout",
     "output_type": "stream",
     "text": [
      "[[ 0  2  4  6]\n",
      " [ 4  6  8 10]\n",
      " [ 8 10 12 14]\n",
      " [12 14 16 18]\n",
      " [16 18 20 22]]\n"
     ]
    }
   ],
   "source": [
    "print(a13+a14)"
   ]
  }
 ],
 "metadata": {
  "kernelspec": {
   "display_name": "Python 3",
   "language": "python",
   "name": "python3"
  },
  "language_info": {
   "codemirror_mode": {
    "name": "ipython",
    "version": 3
   },
   "file_extension": ".py",
   "mimetype": "text/x-python",
   "name": "python",
   "nbconvert_exporter": "python",
   "pygments_lexer": "ipython3",
   "version": "3.8.8"
  }
 },
 "nbformat": 4,
 "nbformat_minor": 5
}
